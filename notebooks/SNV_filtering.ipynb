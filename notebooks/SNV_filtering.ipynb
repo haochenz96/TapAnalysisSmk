{
 "cells": [
  {
   "attachments": {},
   "cell_type": "markdown",
   "metadata": {},
   "source": [
    "@haochenz96 05/29/2023\n",
    "This demo notebook will show how to filter the raw {sample}.mpileup.h5 using the matched CRAVAT dataframe.\n",
    "\n",
    "The {sample}.mpileup.h5 is output by the TapVarCallSmk pipeline; the matched CRAVAT dataframe contains annotation provided by https://opencravat.org/, as well as matched bulk sequencing data (normal and tumor)"
   ]
  },
  {
   "cell_type": "code",
   "execution_count": 35,
   "metadata": {},
   "outputs": [],
   "source": [
    "from pathlib import Path\n",
    "import mosaic.io as mio\n",
    "import pandas as pd\n",
    "import numpy as np\n",
    "\n",
    "# SNV filtering\n",
    "from tea.cravat import get_technical_artifact_mask\n",
    "\n",
    "# SNV plotting\n",
    "from tea.format import isNaN\n",
    "from tea.plots import plot_snv_clone"
   ]
  },
  {
   "cell_type": "code",
   "execution_count": 29,
   "metadata": {},
   "outputs": [
    {
     "name": "stdout",
     "output_type": "stream",
     "text": [
      "Loading, ../data/RA17_22/RA17_22-39_6.mpileup.h5\n"
     ]
    },
    {
     "name": "stderr",
     "output_type": "stream",
     "text": [
      "WARNING:root:original NGT layer not found.\n",
      "WARNING:root:GQ layer not found. Using all zeros.\n"
     ]
    },
    {
     "name": "stdout",
     "output_type": "stream",
     "text": [
      "Loaded in 1.0s.\n"
     ]
    }
   ],
   "source": [
    "# load example CRAVAT dataframe and H5\n",
    "\n",
    "sample_i = 'RA17_22-39_6'\n",
    "\n",
    "cravat_f = '../data/RA17_22/RA17_22-39_6_CRAVAT_output.cleaned.txt'\n",
    "cravat_df = pd.read_csv(\n",
    "    cravat_f, sep='\\t', index_col=0, header=[0,1]\n",
    ")\n",
    "\n",
    "sample_obj = mio.load(\"../data/RA17_22/RA17_22-39_6.mpileup.h5\")\n",
    "sample_obj.dna.genotype_variants(\n",
    "    min_dp = 8, min_alt_read = 3, assign_low_conf_genotype = True,\n",
    ")"
   ]
  },
  {
   "attachments": {},
   "cell_type": "markdown",
   "metadata": {},
   "source": [
    "# filter out technical artifacts\n",
    "\n",
    "first we filter out technical artifacts based on:\n",
    "\n",
    "1. the SNV is labeled as base-quality (Mutect2) in a certain number cells\n",
    "2. the SNV recurrently appears in normal samples (either Broad Institute bulk whole-exome panel of normals, or this Tapestri panel-specific panel of normals). A caveat of this is that population-frequent SNPs might be filtered out. Therefore we rescue SNVs present above a certain frequency in 1000 genomes."
   ]
  },
  {
   "cell_type": "code",
   "execution_count": 12,
   "metadata": {},
   "outputs": [],
   "source": [
    "num_cells = sample_obj.dna.shape[0]\n",
    "\n",
    "# all params are set to default\n",
    "technical_mask = get_technical_artifact_mask(\n",
    "    cravat_df, \n",
    "    num_cells = num_cells, \n",
    "    bq_prev_threshold = 0.005, \n",
    "    normals_pon_occurence = 4, \n",
    "    rescue_1000genome_af = 0.01,  \n",
    "    filter_broad_wes_pon = False\n",
    "    )\n",
    "    "
   ]
  },
  {
   "attachments": {},
   "cell_type": "markdown",
   "metadata": {},
   "source": [
    "# get SNVs that are validated by bulk\n",
    "\n",
    "Then we select SNVs that are detected by bulk sequencing in the matched normal/tumor sample. \n",
    "\n",
    "If an SNV is detected by bulk in matched normal, it is considered a germline SNP;\n",
    "if an SNV is detected by bulk in matched tumor, it is considered a somatic tumor-related SNV."
   ]
  },
  {
   "cell_type": "code",
   "execution_count": 21,
   "metadata": {},
   "outputs": [],
   "source": [
    "bulk_mask = (cravat_df[('bulk_comparison', 'bulk-matched_bulk_normal-AF')] > 0) | (cravat_df[('bulk_comparison', 'bulk-matched_bulk_cohort-AF')] > 0)\n",
    "\n",
    "\n",
    "bulk_germline_snv_set = set(cravat_df[(cravat_df[('bulk_comparison', 'bulk-matched_bulk_normal-AF')] > 0) & technical_mask].index)\n",
    "\n",
    "bulk_somatic_snv_set = set(cravat_df[(cravat_df[('bulk_comparison', 'bulk-matched_bulk_cohort-AF')] > 0) & technical_mask].index)"
   ]
  },
  {
   "attachments": {},
   "cell_type": "markdown",
   "metadata": {},
   "source": [
    "# Plot final list of SNVs"
   ]
  },
  {
   "cell_type": "code",
   "execution_count": 27,
   "metadata": {},
   "outputs": [
    {
     "data": {
      "text/plain": [
       "70"
      ]
     },
     "execution_count": 27,
     "metadata": {},
     "output_type": "execute_result"
    }
   ],
   "source": [
    "voi = cravat_df[technical_mask & bulk_mask].index.tolist()\n",
    "len(voi)"
   ]
  },
  {
   "attachments": {},
   "cell_type": "markdown",
   "metadata": {},
   "source": [
    "## Create an annotation map, with colors differentiating between germline vs somatic SNVs"
   ]
  },
  {
   "cell_type": "code",
   "execution_count": 28,
   "metadata": {},
   "outputs": [],
   "source": [
    "ann = cravat_df.loc[voi, :].index.map(\n",
    "    lambda x: \n",
    "    cravat_df.loc[x, ('Variant Annotation', 'Gene')] + ' ' + cravat_df.loc[x, ('Variant Annotation', 'Protein Change')] if not isNaN(cravat_df.loc[x, ('Variant Annotation','Protein Change')])\n",
    "    else cravat_df.loc[x, ('Variant Annotation','Gene')] + ' ' + cravat_df.loc[x, ('Variant Annotation','Sequence Ontology')]\n",
    ")\n",
    "\n",
    "ann_map = dict(zip(voi, ann))\n",
    "\n",
    "germline_var_col = '#00cc66' # dark green\n",
    "somatic_var_col = '#ff0000' # red\n",
    "\n",
    "for var_i in ann_map:\n",
    "    # germline\n",
    "    if var_i in bulk_germline_snv_set:\n",
    "        ann_map[var_i] = f'<span style=\"color:{germline_var_col};\">' + ann_map[var_i] + '</span>'\n",
    "    elif var_i in bulk_somatic_snv_set:\n",
    "        ann_map[var_i] = f'<span style=\"color:{somatic_var_col};\">' + ann_map[var_i] + '</span>'\n",
    "    else:\n",
    "        pass"
   ]
  },
  {
   "cell_type": "code",
   "execution_count": 30,
   "metadata": {},
   "outputs": [],
   "source": [
    "fig = plot_snv_clone(\n",
    "        sample_obj,\n",
    "        sample_name=sample_i,\n",
    "        story_topic = 'bulk_snvs',\n",
    "        voi = voi,\n",
    "        attribute = 'AF_MISSING',\n",
    "        ann_map = ann_map\n",
    "    )"
   ]
  },
  {
   "cell_type": "code",
   "execution_count": 36,
   "metadata": {},
   "outputs": [],
   "source": [
    "fig.update_layout(\n",
    "    width = len(voi) * 20,\n",
    ")\n",
    "\n",
    "Path('figures').mkdir(exist_ok=True)\n",
    "fig.write_image(\n",
    "    f'figures/{sample_i}_bulk_snvs.pdf',\n",
    ")"
   ]
  }
 ],
 "metadata": {
  "kernelspec": {
   "display_name": "mosaic-custom",
   "language": "python",
   "name": "python3"
  },
  "language_info": {
   "codemirror_mode": {
    "name": "ipython",
    "version": 3
   },
   "file_extension": ".py",
   "mimetype": "text/x-python",
   "name": "python",
   "nbconvert_exporter": "python",
   "pygments_lexer": "ipython3",
   "version": "3.8.16"
  },
  "orig_nbformat": 4
 },
 "nbformat": 4,
 "nbformat_minor": 2
}
